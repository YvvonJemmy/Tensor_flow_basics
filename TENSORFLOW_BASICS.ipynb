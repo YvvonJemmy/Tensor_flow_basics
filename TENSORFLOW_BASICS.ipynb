{
  "nbformat": 4,
  "nbformat_minor": 0,
  "metadata": {
    "colab": {
      "provenance": []
    },
    "kernelspec": {
      "name": "python3",
      "display_name": "Python 3"
    },
    "language_info": {
      "name": "python"
    },
    "accelerator": "GPU",
    "gpuClass": "standard"
  },
  "cells": [
    {
      "cell_type": "markdown",
      "source": [
        "######Importing tensorflow library"
      ],
      "metadata": {
        "id": "qcWLGbFk4zOY"
      }
    },
    {
      "cell_type": "code",
      "execution_count": 1,
      "metadata": {
        "id": "7vMYLjtK4t0O"
      },
      "outputs": [],
      "source": [
        "#importing tensorflow\n",
        "import tensorflow as tf"
      ]
    },
    {
      "cell_type": "code",
      "source": [
        "x = tf.ones([3,2],dtype = tf.float64 )\n",
        "x"
      ],
      "metadata": {
        "colab": {
          "base_uri": "https://localhost:8080/"
        },
        "id": "MwpGxwlnyGmq",
        "outputId": "f98ab559-6762-4e29-a7e6-d6e60e8d5dd7"
      },
      "execution_count": 2,
      "outputs": [
        {
          "output_type": "execute_result",
          "data": {
            "text/plain": [
              "<tf.Tensor: shape=(3, 2), dtype=float64, numpy=\n",
              "array([[1., 1.],\n",
              "       [1., 1.],\n",
              "       [1., 1.]])>"
            ]
          },
          "metadata": {},
          "execution_count": 2
        }
      ]
    },
    {
      "cell_type": "code",
      "source": [
        "y = tf.zeros([3], dtype = tf.int16)\n",
        "print(y)"
      ],
      "metadata": {
        "colab": {
          "base_uri": "https://localhost:8080/"
        },
        "id": "oI2QLeUPK1eW",
        "outputId": "b1730416-0739-46a4-c099-3ba91c2046ca"
      },
      "execution_count": 3,
      "outputs": [
        {
          "output_type": "stream",
          "name": "stdout",
          "text": [
            "tf.Tensor([0 0 0], shape=(3,), dtype=int16)\n"
          ]
        }
      ]
    },
    {
      "cell_type": "code",
      "source": [
        "s = tf.eye(5)\n",
        "print(s)"
      ],
      "metadata": {
        "colab": {
          "base_uri": "https://localhost:8080/"
        },
        "id": "eQJ2V-w6s9Ah",
        "outputId": "e8625e5d-8036-463f-bfed-504036131354"
      },
      "execution_count": 4,
      "outputs": [
        {
          "output_type": "stream",
          "name": "stdout",
          "text": [
            "tf.Tensor(\n",
            "[[1. 0. 0. 0. 0.]\n",
            " [0. 1. 0. 0. 0.]\n",
            " [0. 0. 1. 0. 0.]\n",
            " [0. 0. 0. 1. 0.]\n",
            " [0. 0. 0. 0. 1.]], shape=(5, 5), dtype=float32)\n"
          ]
        }
      ]
    },
    {
      "cell_type": "code",
      "source": [
        "q = tf.random.uniform([5,5])\n",
        "print(q)"
      ],
      "metadata": {
        "colab": {
          "base_uri": "https://localhost:8080/"
        },
        "id": "i0fHiGp3taCb",
        "outputId": "86f31a98-86de-4836-fc30-3c343e636e25"
      },
      "execution_count": 5,
      "outputs": [
        {
          "output_type": "stream",
          "name": "stdout",
          "text": [
            "tf.Tensor(\n",
            "[[0.99261343 0.93842435 0.84120464 0.6557765  0.54165685]\n",
            " [0.2126081  0.37039256 0.86575425 0.5354928  0.884617  ]\n",
            " [0.5999751  0.46565652 0.82327354 0.5475472  0.24273217]\n",
            " [0.05392742 0.24925554 0.25041127 0.09684277 0.25756693]\n",
            " [0.6177716  0.09894621 0.353925   0.66660047 0.6087209 ]], shape=(5, 5), dtype=float32)\n"
          ]
        }
      ]
    },
    {
      "cell_type": "code",
      "source": [
        "r = tf.random.normal([4,4])\n",
        "r"
      ],
      "metadata": {
        "colab": {
          "base_uri": "https://localhost:8080/"
        },
        "id": "eKXwKg_yttm1",
        "outputId": "430267df-39e2-443d-a55d-0dcb41968d91"
      },
      "execution_count": 6,
      "outputs": [
        {
          "output_type": "execute_result",
          "data": {
            "text/plain": [
              "<tf.Tensor: shape=(4, 4), dtype=float32, numpy=\n",
              "array([[-0.65309495, -0.14025876,  0.14967969, -1.3704379 ],\n",
              "       [ 0.6930686 ,  0.14364034,  0.4477268 , -0.74811506],\n",
              "       [ 1.1295495 , -0.52970856,  0.4045377 , -0.7501527 ],\n",
              "       [-1.1461151 , -1.4328878 , -0.28606895,  0.9200151 ]],\n",
              "      dtype=float32)>"
            ]
          },
          "metadata": {},
          "execution_count": 6
        }
      ]
    },
    {
      "cell_type": "code",
      "source": [
        "e = tf.range(start = 50, limit = 100, delta =5)\n",
        "e"
      ],
      "metadata": {
        "colab": {
          "base_uri": "https://localhost:8080/"
        },
        "id": "XEWboGb-t2vc",
        "outputId": "ba36e5d6-7037-4389-9030-e4dd4340adfa"
      },
      "execution_count": 7,
      "outputs": [
        {
          "output_type": "execute_result",
          "data": {
            "text/plain": [
              "<tf.Tensor: shape=(10,), dtype=int32, numpy=array([50, 55, 60, 65, 70, 75, 80, 85, 90, 95], dtype=int32)>"
            ]
          },
          "metadata": {},
          "execution_count": 7
        }
      ]
    },
    {
      "cell_type": "code",
      "source": [
        "# concatination by columns\n",
        "A = tf.constant([[2,4], [5,6]])\n",
        "B = tf.constant([[3,3], [10,9]])\n",
        "AB_concat = tf.concat(values = [A,B], axis = 1)\n",
        "AB_concat\n"
      ],
      "metadata": {
        "colab": {
          "base_uri": "https://localhost:8080/"
        },
        "id": "QLi88RYthqgQ",
        "outputId": "cf6a7ea7-f19f-4183-c8a7-914dbf0cd04d"
      },
      "execution_count": 10,
      "outputs": [
        {
          "output_type": "execute_result",
          "data": {
            "text/plain": [
              "<tf.Tensor: shape=(2, 2), dtype=int32, numpy=\n",
              "array([[ 3,  3],\n",
              "       [10,  9]], dtype=int32)>"
            ]
          },
          "metadata": {},
          "execution_count": 10
        }
      ]
    },
    {
      "cell_type": "code",
      "source": [
        "#concatinating by rows\n",
        "AB1_concat = tf.concat(values =[A,B], axis = 0)\n",
        "AB1_concat"
      ],
      "metadata": {
        "colab": {
          "base_uri": "https://localhost:8080/"
        },
        "id": "FH6Rx6jyiL-m",
        "outputId": "8046fbf4-9c9c-4330-ef2b-aa7943cff06b"
      },
      "execution_count": 11,
      "outputs": [
        {
          "output_type": "execute_result",
          "data": {
            "text/plain": [
              "<tf.Tensor: shape=(4, 2), dtype=int32, numpy=\n",
              "array([[ 2,  4],\n",
              "       [ 5,  6],\n",
              "       [ 3,  3],\n",
              "       [10,  9]], dtype=int32)>"
            ]
          },
          "metadata": {},
          "execution_count": 11
        }
      ]
    },
    {
      "cell_type": "markdown",
      "source": [
        "###Mathematical operations"
      ],
      "metadata": {
        "id": "D0AdbwIFitWc"
      }
    },
    {
      "cell_type": "code",
      "source": [
        "#matrix multiplication\n",
        "c = tf.Variable([[1,2],[2,4]])\n",
        "d = tf.Variable([[1],[4]])\n",
        "cd_mul = tf.matmul(c,d)\n",
        "cd_mul"
      ],
      "metadata": {
        "colab": {
          "base_uri": "https://localhost:8080/"
        },
        "id": "H4aRtZrOiwpt",
        "outputId": "dc1f11af-34a3-4cd7-9f24-cc31cd270f71"
      },
      "execution_count": 13,
      "outputs": [
        {
          "output_type": "execute_result",
          "data": {
            "text/plain": [
              "<tf.Tensor: shape=(2, 1), dtype=int32, numpy=\n",
              "array([[ 9],\n",
              "       [18]], dtype=int32)>"
            ]
          },
          "metadata": {},
          "execution_count": 13
        }
      ]
    },
    {
      "cell_type": "code",
      "source": [
        "#subtraction\n",
        "x = tf.constant([[45,99,38], [31,29,54]])\n",
        "y = tf.constant([[11,24,45], [23,39,31]])\n",
        "z = tf.subtract(x, y)\n",
        "z"
      ],
      "metadata": {
        "colab": {
          "base_uri": "https://localhost:8080/"
        },
        "id": "6sTIFVF_kBc0",
        "outputId": "df24fa9c-35cf-42b2-cd50-1f594809c67c"
      },
      "execution_count": 14,
      "outputs": [
        {
          "output_type": "execute_result",
          "data": {
            "text/plain": [
              "<tf.Tensor: shape=(2, 3), dtype=int32, numpy=\n",
              "array([[ 34,  75,  -7],\n",
              "       [  8, -10,  23]], dtype=int32)>"
            ]
          },
          "metadata": {},
          "execution_count": 14
        }
      ]
    },
    {
      "cell_type": "code",
      "source": [
        "#addition\n",
        "u = tf.add(x,y)\n",
        "u"
      ],
      "metadata": {
        "colab": {
          "base_uri": "https://localhost:8080/"
        },
        "id": "3nYE1B1VkjxH",
        "outputId": "b9088c60-6888-4308-d13b-e2313bacb34d"
      },
      "execution_count": 16,
      "outputs": [
        {
          "output_type": "execute_result",
          "data": {
            "text/plain": [
              "<tf.Tensor: shape=(2, 3), dtype=int32, numpy=\n",
              "array([[ 56, 123,  83],\n",
              "       [ 54,  68,  85]], dtype=int32)>"
            ]
          },
          "metadata": {},
          "execution_count": 16
        }
      ]
    },
    {
      "cell_type": "code",
      "source": [
        "#division\n",
        "d = tf.divide(x,y)\n",
        "d"
      ],
      "metadata": {
        "colab": {
          "base_uri": "https://localhost:8080/"
        },
        "id": "nHw_5ovWkqH7",
        "outputId": "70063dd9-0768-44d5-f5a5-d64db3fc82fa"
      },
      "execution_count": 17,
      "outputs": [
        {
          "output_type": "execute_result",
          "data": {
            "text/plain": [
              "<tf.Tensor: shape=(2, 3), dtype=float64, numpy=\n",
              "array([[4.09090909, 4.125     , 0.84444444],\n",
              "       [1.34782609, 0.74358974, 1.74193548]])>"
            ]
          },
          "metadata": {},
          "execution_count": 17
        }
      ]
    },
    {
      "cell_type": "code",
      "source": [
        "#normal multiplication\n",
        "q = tf.multiply(x,y)\n",
        "q"
      ],
      "metadata": {
        "colab": {
          "base_uri": "https://localhost:8080/"
        },
        "id": "bDgXZTqck7IV",
        "outputId": "904cfe6e-4abf-4298-bf24-da43024bfab6"
      },
      "execution_count": 18,
      "outputs": [
        {
          "output_type": "execute_result",
          "data": {
            "text/plain": [
              "<tf.Tensor: shape=(2, 3), dtype=int32, numpy=\n",
              "array([[ 495, 2376, 1710],\n",
              "       [ 713, 1131, 1674]], dtype=int32)>"
            ]
          },
          "metadata": {},
          "execution_count": 18
        }
      ]
    },
    {
      "cell_type": "code",
      "source": [
        "#reduced sum on rows\n",
        "s = tf.reduce_sum(x*y, axis = 0)\n",
        "s"
      ],
      "metadata": {
        "colab": {
          "base_uri": "https://localhost:8080/"
        },
        "id": "AS2qKrsUmJw5",
        "outputId": "82ccee8c-1b0a-48fb-a050-8c66c34c2bb1"
      },
      "execution_count": 23,
      "outputs": [
        {
          "output_type": "execute_result",
          "data": {
            "text/plain": [
              "<tf.Tensor: shape=(3,), dtype=int32, numpy=array([1208, 3507, 3384], dtype=int32)>"
            ]
          },
          "metadata": {},
          "execution_count": 23
        }
      ]
    },
    {
      "cell_type": "code",
      "source": [
        "#reduced sum on columns\n",
        "s = tf.reduce_sum(x*y, axis = 1)\n",
        "s"
      ],
      "metadata": {
        "colab": {
          "base_uri": "https://localhost:8080/"
        },
        "id": "fIE2rGuQmVde",
        "outputId": "c49327e5-ce0c-434c-e7fa-202f29b1fcc0"
      },
      "execution_count": 24,
      "outputs": [
        {
          "output_type": "execute_result",
          "data": {
            "text/plain": [
              "<tf.Tensor: shape=(2,), dtype=int32, numpy=array([4581, 3518], dtype=int32)>"
            ]
          },
          "metadata": {},
          "execution_count": 24
        }
      ]
    },
    {
      "cell_type": "markdown",
      "source": [
        "###Advanced operations"
      ],
      "metadata": {
        "id": "AuZ-3LtPmixu"
      }
    },
    {
      "cell_type": "code",
      "source": [
        "#indexing  in tensors\n",
        "x = tf.constant([1,2,3,4,5,6,7,8,9,11,12,23])\n",
        "print(x[::])"
      ],
      "metadata": {
        "colab": {
          "base_uri": "https://localhost:8080/"
        },
        "id": "V9NoDKEqmmq1",
        "outputId": "5f5ac527-2e7b-4933-9d19-1a5e2508a0e7"
      },
      "execution_count": 26,
      "outputs": [
        {
          "output_type": "stream",
          "name": "stdout",
          "text": [
            "tf.Tensor([ 1  2  3  4  5  6  7  8  9 11 12 23], shape=(12,), dtype=int32)\n"
          ]
        }
      ]
    },
    {
      "cell_type": "code",
      "source": [
        "print(x[1:])"
      ],
      "metadata": {
        "colab": {
          "base_uri": "https://localhost:8080/"
        },
        "id": "ImyjUO3zqkuJ",
        "outputId": "b5ee5e1d-cfbb-46ae-fb46-a5e4f8ab76af"
      },
      "execution_count": 27,
      "outputs": [
        {
          "output_type": "stream",
          "name": "stdout",
          "text": [
            "tf.Tensor([ 2  3  4  5  6  7  8  9 11 12 23], shape=(11,), dtype=int32)\n"
          ]
        }
      ]
    },
    {
      "cell_type": "code",
      "source": [
        "print(x[1:6])"
      ],
      "metadata": {
        "colab": {
          "base_uri": "https://localhost:8080/"
        },
        "id": "dV7Yy2qpqr8_",
        "outputId": "fcaee53f-813c-413c-9bda-39923bc14181"
      },
      "execution_count": 28,
      "outputs": [
        {
          "output_type": "stream",
          "name": "stdout",
          "text": [
            "tf.Tensor([2 3 4 5 6], shape=(5,), dtype=int32)\n"
          ]
        }
      ]
    },
    {
      "cell_type": "code",
      "source": [
        "print(x[::-1])"
      ],
      "metadata": {
        "colab": {
          "base_uri": "https://localhost:8080/"
        },
        "id": "geKk4Lnzqz-J",
        "outputId": "742b4a36-a145-46da-da21-b9df942da941"
      },
      "execution_count": 29,
      "outputs": [
        {
          "output_type": "stream",
          "name": "stdout",
          "text": [
            "tf.Tensor([23 12 11  9  8  7  6  5  4  3  2  1], shape=(12,), dtype=int32)\n"
          ]
        }
      ]
    },
    {
      "cell_type": "code",
      "source": [
        "print(x[::2])"
      ],
      "metadata": {
        "colab": {
          "base_uri": "https://localhost:8080/"
        },
        "id": "IDvdBgvhq6c0",
        "outputId": "dd4d4f23-1b9c-45e4-c929-687a34e97af4"
      },
      "execution_count": 30,
      "outputs": [
        {
          "output_type": "stream",
          "name": "stdout",
          "text": [
            "tf.Tensor([ 1  3  5  7  9 12], shape=(6,), dtype=int32)\n"
          ]
        }
      ]
    },
    {
      "cell_type": "code",
      "source": [
        "#reshaping tensors\n",
        "y = tf.reshape(x,[3,4])\n",
        "y"
      ],
      "metadata": {
        "colab": {
          "base_uri": "https://localhost:8080/"
        },
        "id": "aJrQySEtrCTT",
        "outputId": "9f324df8-4fc4-41a1-85e4-af15231db5bd"
      },
      "execution_count": 32,
      "outputs": [
        {
          "output_type": "execute_result",
          "data": {
            "text/plain": [
              "<tf.Tensor: shape=(3, 4), dtype=int32, numpy=\n",
              "array([[ 1,  2,  3,  4],\n",
              "       [ 5,  6,  7,  8],\n",
              "       [ 9, 11, 12, 23]], dtype=int32)>"
            ]
          },
          "metadata": {},
          "execution_count": 32
        }
      ]
    },
    {
      "cell_type": "code",
      "source": [
        "#gradient in  tensorflow\n",
        "x = tf.constant(3.0)\n",
        "with tf.GradientTape() as g:\n",
        "  g.watch(x)\n",
        "  y =  x*x*x\n",
        "  dy_dx = g.gradient(y,x)\n",
        "  print(dy_dx)"
      ],
      "metadata": {
        "colab": {
          "base_uri": "https://localhost:8080/"
        },
        "id": "r20MKfFCrhQ1",
        "outputId": "b75e73d4-2319-4bfe-eefa-87bc24be430e"
      },
      "execution_count": 33,
      "outputs": [
        {
          "output_type": "stream",
          "name": "stdout",
          "text": [
            "tf.Tensor(27.0, shape=(), dtype=float32)\n"
          ]
        }
      ]
    },
    {
      "cell_type": "code",
      "source": [
        "#nested gradient\n",
        "x = tf.constant(6.0)\n",
        "with tf.GradientTape() as w:\n",
        "  w.watch(x)\n",
        "  with tf.GradientTape() as f:\n",
        "    f.watch(x)\n",
        "    y = x*x\n",
        "    dy_dx = f.gradient(y,x)\n",
        "    d2y_d2x = w.gradient(y,x)\n",
        "    print(dy_dx)\n",
        "    print(d2y_d2x)"
      ],
      "metadata": {
        "colab": {
          "base_uri": "https://localhost:8080/"
        },
        "id": "lRkeIp5qsCvS",
        "outputId": "af466d95-3faf-40ec-baff-c4fd79efc8d7"
      },
      "execution_count": 35,
      "outputs": [
        {
          "output_type": "stream",
          "name": "stdout",
          "text": [
            "tf.Tensor(12.0, shape=(), dtype=float32)\n",
            "tf.Tensor(12.0, shape=(), dtype=float32)\n"
          ]
        }
      ]
    },
    {
      "cell_type": "markdown",
      "source": [
        "###reshaping images"
      ],
      "metadata": {
        "id": "CM6ciQHotLAl"
      }
    },
    {
      "cell_type": "code",
      "source": [
        "#generating grayscale images\n",
        "gray = tf.random.uniform([3,4], maxval = 255, dtype = tf.int64)\n",
        "gray"
      ],
      "metadata": {
        "colab": {
          "base_uri": "https://localhost:8080/"
        },
        "id": "j-gCfC9CtN-H",
        "outputId": "f4a8cb86-7c63-4728-d18d-775dc49c590d"
      },
      "execution_count": 39,
      "outputs": [
        {
          "output_type": "execute_result",
          "data": {
            "text/plain": [
              "<tf.Tensor: shape=(3, 4), dtype=int64, numpy=\n",
              "array([[ 69, 127, 141, 153],\n",
              "       [199, 118, 119,  61],\n",
              "       [199, 129, 166,  27]])>"
            ]
          },
          "metadata": {},
          "execution_count": 39
        }
      ]
    },
    {
      "cell_type": "code",
      "source": [
        "#reshaping \n",
        "gray = tf.reshape(gray,[6+6,1])\n",
        "gray"
      ],
      "metadata": {
        "colab": {
          "base_uri": "https://localhost:8080/"
        },
        "id": "LirB_-w2tvY_",
        "outputId": "eb1711b8-350f-40aa-a4a0-175a47fe5d26"
      },
      "execution_count": 41,
      "outputs": [
        {
          "output_type": "execute_result",
          "data": {
            "text/plain": [
              "<tf.Tensor: shape=(12, 1), dtype=int64, numpy=\n",
              "array([[ 69],\n",
              "       [127],\n",
              "       [141],\n",
              "       [153],\n",
              "       [199],\n",
              "       [118],\n",
              "       [119],\n",
              "       [ 61],\n",
              "       [199],\n",
              "       [129],\n",
              "       [166],\n",
              "       [ 27]])>"
            ]
          },
          "metadata": {},
          "execution_count": 41
        }
      ]
    }
  ]
}